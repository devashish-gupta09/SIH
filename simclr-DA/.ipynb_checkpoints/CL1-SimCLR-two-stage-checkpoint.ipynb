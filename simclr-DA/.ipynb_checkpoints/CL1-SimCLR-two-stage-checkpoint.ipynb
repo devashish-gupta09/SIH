{
 "cells": [
  {
   "cell_type": "markdown",
   "metadata": {
    "id": "00SYdjl2qP0g"
   },
   "source": [
    "## Importing Libraries"
   ]
  },
  {
   "cell_type": "code",
   "execution_count": 1,
   "metadata": {
    "_cell_guid": "b1076dfc-b9ad-4769-8c92-a6c4dae69d19",
    "_uuid": "8f2839f25d086af736a60e9eeb907d3b93b6e0e5",
    "execution": {
     "iopub.execute_input": "2022-03-13T06:42:10.595908Z",
     "iopub.status.busy": "2022-03-13T06:42:10.594322Z",
     "iopub.status.idle": "2022-03-13T06:42:11.494803Z",
     "shell.execute_reply": "2022-03-13T06:42:11.493790Z",
     "shell.execute_reply.started": "2022-03-13T06:42:10.595779Z"
    },
    "id": "wL_Zdwe5qP0m"
   },
   "outputs": [
    {
     "name": "stderr",
     "output_type": "stream",
     "text": [
      "/home/ccet/anaconda3/lib/python3.8/site-packages/scipy/__init__.py:146: UserWarning: A NumPy version >=1.16.5 and <1.23.0 is required for this version of SciPy (detected version 1.23.1\n",
      "  warnings.warn(f\"A NumPy version >={np_minversion} and <{np_maxversion}\"\n"
     ]
    }
   ],
   "source": [
    "import torch\n",
    "import torch.nn as nn\n",
    "import torchvision\n",
    "\n",
    "from torch.utils.data import (\n",
    "    Dataset,\n",
    "    DataLoader,\n",
    ")\n",
    "\n",
    "from torchvision.datasets import ImageFolder\n",
    "from torchvision.transforms import (\n",
    "    RandomResizedCrop,\n",
    "    RandomHorizontalFlip,\n",
    "    RandomVerticalFlip,\n",
    "    ColorJitter,\n",
    "    RandomGrayscale,\n",
    "    RandomApply,\n",
    "    Compose,\n",
    "    GaussianBlur,\n",
    "    Resize,\n",
    "    ToTensor,\n",
    "    RandomRotation,\n",
    "    RandomAffine,\n",
    "    Normalize\n",
    ")\n",
    "# from torchlars import LARS\n",
    "import torchvision.models as models\n",
    "\n",
    "import os\n",
    "import glob\n",
    "import time\n",
    "from skimage import io\n",
    "import matplotlib.pyplot as plt\n",
    "from PIL import Image"
   ]
  },
  {
   "cell_type": "code",
   "execution_count": 2,
   "metadata": {
    "colab": {
     "base_uri": "https://localhost:8080/"
    },
    "execution": {
     "iopub.execute_input": "2022-03-13T06:42:11.496680Z",
     "iopub.status.busy": "2022-03-13T06:42:11.496348Z",
     "iopub.status.idle": "2022-03-13T06:42:11.544980Z",
     "shell.execute_reply": "2022-03-13T06:42:11.543841Z",
     "shell.execute_reply.started": "2022-03-13T06:42:11.496609Z"
    },
    "id": "h410cOBcqP0q",
    "outputId": "365dfe83-6ec5-473e-ad77-de8229e5ffb0"
   },
   "outputs": [
    {
     "name": "stdout",
     "output_type": "stream",
     "text": [
      "Torch-Version 1.10.2+cu102\n",
      "DEVICE: cuda\n"
     ]
    }
   ],
   "source": [
    "print(f'Torch-Version {torch.__version__}')\n",
    "DEVICE = torch.device(\"cuda\" if torch.cuda.is_available() else \"cpu\")\n",
    "print(f'DEVICE: {DEVICE}')"
   ]
  },
  {
   "cell_type": "markdown",
   "metadata": {
    "id": "PFXKelOaqP04"
   },
   "source": [
    "## SimCLR transformations"
   ]
  },
  {
   "cell_type": "code",
   "execution_count": 3,
   "metadata": {
    "id": "EqAJPbyRqP05"
   },
   "outputs": [],
   "source": [
    "def get_complete_transform(output_shape, kernel_size, s=1.0):\n",
    "    \"\"\"\n",
    "    The color distortion transform.\n",
    "    \n",
    "    Args:\n",
    "        s: Strength parameter.\n",
    "    \n",
    "    Returns:\n",
    "        A color distortion transform.\n",
    "    \"\"\"\n",
    "    rnd_crop = Resize(output_shape)    # random crop\n",
    "    rnd_flip = RandomHorizontalFlip(p=0.5)     # random flip\n",
    "    rnd_vflip= RandomVerticalFlip(p=0.5)\n",
    "    rnd_rotate = RandomRotation(degrees=(-90, 90), fill=(0,))\n",
    "#     color_jitter = ColorJitter(0.01*s, 0.02*s, 0.08*s, 0.1*s)\n",
    "#     rnd_color_jitter = RandomApply([color_jitter], p=0.8)      # random color jitter\n",
    "    rnd_aff= RandomAffine(degrees=(-180, 180), translate=(0.2, 0.2))\n",
    "#     rnd_gray = RandomGrayscale(p=0.2)    # random grayscale\n",
    "    gblur =GaussianBlur(kernel_size=9, sigma=(0.1, 0.5))\n",
    "#     norm= Normalize((0.125753653049469, 0.02737451672554016, 0.02293757855892181), (0.02670302987098694, 0.02240527391433716, 0.0286241775751114))\n",
    "    to_tensor = ToTensor()\n",
    "    image_transform = Compose([\n",
    "        to_tensor,\n",
    "        rnd_crop,\n",
    "        rnd_flip,\n",
    "        rnd_rotate,\n",
    "#         rnd_gray,\n",
    "        rnd_vflip,\n",
    "        rnd_aff,\n",
    "        gblur\n",
    "#         norm\n",
    "    ])\n",
    "    return image_transform\n",
    "\n",
    "\n",
    "# generate two views for an image\n",
    "class ContrastiveLearningViewGenerator(object):\n",
    "    \"\"\"Take two random crops of one image as the query and key.\"\"\"\n",
    "\n",
    "    def __init__(self, base_transform, n_views=2):\n",
    "        self.base_transform = base_transform\n",
    "        self.n_views = n_views\n",
    "\n",
    "    def __call__(self, x):\n",
    "        views = [self.base_transform(x) for i in range(self.n_views)]\n",
    "        return views"
   ]
  },
  {
   "cell_type": "markdown",
   "metadata": {
    "id": "dAFthLN5qP07"
   },
   "source": [
    "## Preparing Dataset"
   ]
  },
  {
   "cell_type": "code",
   "execution_count": 4,
   "metadata": {
    "execution": {
     "iopub.execute_input": "2022-03-13T06:42:12.773551Z",
     "iopub.status.busy": "2022-03-13T06:42:12.772648Z",
     "iopub.status.idle": "2022-03-13T06:42:12.782185Z",
     "shell.execute_reply": "2022-03-13T06:42:12.780789Z",
     "shell.execute_reply.started": "2022-03-13T06:42:12.773496Z"
    },
    "id": "YyaBLRUEqP08"
   },
   "outputs": [],
   "source": [
    "class CustomDataset(Dataset):\n",
    "\n",
    "    def __init__(self, list_images, transform=None):\n",
    "        self.list_images = list_images\n",
    "        self.transform = transform\n",
    "\n",
    "    def __len__(self):\n",
    "        return len(self.list_images)\n",
    "\n",
    "    def __getitem__(self, idx):\n",
    "        if torch.is_tensor(idx):\n",
    "            idx = idx.tolist()\n",
    "            \n",
    "        img_name = self.list_images[idx]\n",
    "#         print(img_name)\n",
    "        image = io.imread(img_name)\n",
    "        if self.transform:\n",
    "            image = self.transform(image)\n",
    "\n",
    "        return image"
   ]
  },
  {
   "cell_type": "code",
   "execution_count": 5,
   "metadata": {},
   "outputs": [],
   "source": [
    "# list_images=glob.glob(\"/home/ccet/SIH/Data/split-data/train/**/*.tif\",recursive = True)\n",
    "# img=Image.open(list_images[1])\n",
    "# img.show()\n",
    "# type(list_images)"
   ]
  },
  {
   "cell_type": "code",
   "execution_count": 6,
   "metadata": {},
   "outputs": [],
   "source": [
    "# list_imagestrain=glob.glob(\"/home/ccet/SIH/Data/split-data/train/**/*.tif\",recursive = True)\n",
    "# img=Image.open(list_images[1])\n",
    "# img.show()\n",
    "\n",
    "# trainn_ds = CustomDataset(\n",
    "#     list_images=list_imagestrain,\n",
    "# #     transform=custom_transform\n",
    "# )\n",
    "# plt.figure(figsize=(5,10))\n",
    "# def view_data(trainn_ds, index):\n",
    "#     for i in range(1,6):\n",
    "#         images = trainn_ds[index]\n",
    "#         view1= images\n",
    "#         plt.subplot(5,2,2*i-1)\n",
    "#         plt.imshow(view1)\n",
    "# #         plt.subplot(5,2,2*i)\n",
    "# #         plt.imshow(view2.permute(1,2,0))\n",
    "\n",
    "# view_data(trainn_ds, 30)"
   ]
  },
  {
   "cell_type": "code",
   "execution_count": 7,
   "metadata": {
    "execution": {
     "iopub.execute_input": "2022-03-13T06:42:14.122969Z",
     "iopub.status.busy": "2022-03-13T06:42:14.122624Z",
     "iopub.status.idle": "2022-03-13T06:42:14.735617Z",
     "shell.execute_reply": "2022-03-13T06:42:14.734540Z",
     "shell.execute_reply.started": "2022-03-13T06:42:14.122934Z"
    },
    "id": "I-SU6McbqP09"
   },
   "outputs": [],
   "source": [
    "output_shape = [224, 224]\n",
    "kernel_size = [21,21] # 10% of the output_shape\n",
    "\n",
    "# base SimCLR data augmentation\n",
    "base_transforms = get_complete_transform(output_shape=output_shape, kernel_size=kernel_size, s=1.0)\n",
    "\n",
    "# The custom transform\n",
    "custom_transform = ContrastiveLearningViewGenerator(base_transform=base_transforms)\n",
    "\n",
    "# complete dataset\n",
    "trainn_ds = CustomDataset(\n",
    "    list_images=glob.glob(\"/home/ccet/SIH/Data/ind-data/bbtc_dataset/train/**/*.tif\",recursive = True),\n",
    "    transform=custom_transform\n",
    ")\n",
    "validd_ds = CustomDataset(\n",
    "    list_images=glob.glob(\"/home/ccet/SIH/Data/ind-data/bbtc_dataset/test/**/*.tif\",recursive = True),\n",
    "    transform=custom_transform\n",
    ")"
   ]
  },
  {
   "cell_type": "code",
   "execution_count": 8,
   "metadata": {
    "colab": {
     "base_uri": "https://localhost:8080/"
    },
    "execution": {
     "iopub.execute_input": "2022-03-13T06:42:14.911068Z",
     "iopub.status.busy": "2022-03-13T06:42:14.910409Z",
     "iopub.status.idle": "2022-03-13T06:42:14.920086Z",
     "shell.execute_reply": "2022-03-13T06:42:14.918919Z",
     "shell.execute_reply.started": "2022-03-13T06:42:14.911030Z"
    },
    "id": "3c3FaNc4qP0_",
    "outputId": "6f19a1f5-aefc-405b-c911-31912562b13e"
   },
   "outputs": [
    {
     "data": {
      "text/plain": [
       "13429"
      ]
     },
     "execution_count": 8,
     "metadata": {},
     "output_type": "execute_result"
    }
   ],
   "source": [
    "len(trainn_ds)"
   ]
  },
  {
   "cell_type": "code",
   "execution_count": 9,
   "metadata": {
    "colab": {
     "base_uri": "https://localhost:8080/"
    },
    "id": "alMPx7jsqP1A",
    "outputId": "1e0c337f-7765-4670-82f4-59eba6060553"
   },
   "outputs": [
    {
     "data": {
      "text/plain": [
       "1704"
      ]
     },
     "execution_count": 9,
     "metadata": {},
     "output_type": "execute_result"
    }
   ],
   "source": [
    "len(validd_ds)"
   ]
  },
  {
   "cell_type": "code",
   "execution_count": 10,
   "metadata": {
    "colab": {
     "base_uri": "https://localhost:8080/",
     "height": 769
    },
    "id": "4_sBhBmiqP1C",
    "outputId": "d6f9ddc8-1dc0-4ca1-8a64-63eb52bf53e3"
   },
   "outputs": [
    {
     "data": {
      "image/png": "[encoded data removed]",
      "text/plain": [
       "<Figure size 360x720 with 10 Axes>"
      ]
     },
     "metadata": {
      "needs_background": "light"
     },
     "output_type": "display_data"
    }
   ],
   "source": [
    "plt.figure(figsize=(5,10))\n",
    "def view_data(trainn_ds, index):\n",
    "    for i in range(1,6):\n",
    "        images = trainn_ds[index]\n",
    "        view1, view2 = images\n",
    "        plt.subplot(5,2,2*i-1)\n",
    "        plt.imshow(view1.permute(1,2,0))\n",
    "        plt.subplot(5,2,2*i)\n",
    "        plt.imshow(view2.permute(1,2,0))\n",
    "\n",
    "view_data(trainn_ds, 50)"
   ]
  },
  {
   "cell_type": "code",
   "execution_count": 11,
   "metadata": {
    "execution": {
     "iopub.execute_input": "2022-03-13T06:42:21.973174Z",
     "iopub.status.busy": "2022-03-13T06:42:21.972846Z",
     "iopub.status.idle": "2022-03-13T06:42:21.979939Z",
     "shell.execute_reply": "2022-03-13T06:42:21.978778Z",
     "shell.execute_reply.started": "2022-03-13T06:42:21.973139Z"
    },
    "id": "T-FfRPjWqP1D"
   },
   "outputs": [],
   "source": [
    "BATCH_SIZE = 256\n",
    "\n",
    "# Building the data loader\n",
    "train_dl = torch.utils.data.DataLoader(\n",
    "    trainn_ds,\n",
    "    batch_size=BATCH_SIZE,\n",
    "    shuffle=True,\n",
    "    num_workers=os.cpu_count(),\n",
    "    drop_last=True,\n",
    "    pin_memory=True,\n",
    ")"
   ]
  },
  {
   "cell_type": "code",
   "execution_count": 12,
   "metadata": {
    "execution": {
     "iopub.execute_input": "2022-03-13T06:45:58.525181Z",
     "iopub.status.busy": "2022-03-13T06:45:58.524532Z",
     "iopub.status.idle": "2022-03-13T06:45:58.538188Z",
     "shell.execute_reply": "2022-03-13T06:45:58.536885Z",
     "shell.execute_reply.started": "2022-03-13T06:45:58.525140Z"
    },
    "id": "bdz35K1TqP1E"
   },
   "outputs": [],
   "source": [
    "class Identity(nn.Module):\n",
    "    def __init__(self):\n",
    "        super(Identity, self).__init__()\n",
    "    def forward(self, x):\n",
    "        return x\n",
    "\n",
    "# simclr network\n",
    "class SimCLR(nn.Module):\n",
    "    def __init__(self, linear_eval=False):\n",
    "        super().__init__()\n",
    "        self.linear_eval = None\n",
    "        resnet50 = models.resnet50(pretrained=True)\n",
    "        resnet50.fc = Identity()\n",
    "        self.encoder = resnet50\n",
    "        self.projection = nn.Sequential(\n",
    "            nn.Linear(2048, 1024),\n",
    "            nn.ReLU(),\n",
    "            nn.Linear(1024, 128)\n",
    "        )\n",
    "    def forward(self, x):\n",
    "        if not self.linear_eval:\n",
    "            x = torch.cat(x, dim=0)\n",
    "        \n",
    "        encoding = self.encoder(x)\n",
    "        projection = self.projection(encoding) \n",
    "        return projection"
   ]
  },
  {
   "cell_type": "code",
   "execution_count": 13,
   "metadata": {
    "execution": {
     "iopub.execute_input": "2022-03-13T06:45:59.168036Z",
     "iopub.status.busy": "2022-03-13T06:45:59.167366Z",
     "iopub.status.idle": "2022-03-13T06:45:59.189043Z",
     "shell.execute_reply": "2022-03-13T06:45:59.187778Z",
     "shell.execute_reply.started": "2022-03-13T06:45:59.167984Z"
    },
    "id": "T1cdLoRgqP1F"
   },
   "outputs": [],
   "source": [
    "LABELS = torch.cat([torch.arange(BATCH_SIZE) for i in range(2)], dim=0)\n",
    "LABELS = (LABELS.unsqueeze(0) == LABELS.unsqueeze(1)).float() # Creates a one-hot with broadcasting\n",
    "LABELS = LABELS.to(DEVICE) #128,128\n",
    "\n",
    "# contrastive loss\n",
    "def cont_loss(features, temp):\n",
    "    \"\"\"\n",
    "    The NTxent Loss.\n",
    "    \n",
    "    Args:\n",
    "        z1: The projection of the first branch\n",
    "        z2: The projeciton of the second branch\n",
    "    \n",
    "    Returns:\n",
    "        the NTxent loss\n",
    "    \"\"\"\n",
    "    similarity_matrix = torch.matmul(features, features.T) # 128, 128\n",
    "    # discard the main diagonal from both: labels and similarities matrix\n",
    "    mask = torch.eye(LABELS.shape[0], dtype=torch.bool).to(DEVICE)\n",
    "    # ~mask is the negative of the mask\n",
    "    # the view is required to bring the matrix back to shape\n",
    "    labels = LABELS[~mask].view(LABELS.shape[0], -1) # 128, 127\n",
    "    similarity_matrix = similarity_matrix[~mask].view(similarity_matrix.shape[0], -1) # 128, 127\n",
    "\n",
    "    # select and combine multiple positives\n",
    "    positives = similarity_matrix[labels.bool()].view(labels.shape[0], -1) # 128, 1\n",
    "\n",
    "    # select only the negatives\n",
    "    negatives = similarity_matrix[~labels.bool()].view(similarity_matrix.shape[0], -1) # 128, 126\n",
    "\n",
    "    logits = torch.cat([positives, negatives], dim=1) # 128, 127\n",
    "    labels = torch.zeros(logits.shape[0], dtype=torch.long).to(DEVICE)\n",
    "\n",
    "    logits = logits / temp\n",
    "    return logits, labels"
   ]
  },
  {
   "cell_type": "code",
   "execution_count": 14,
   "metadata": {
    "id": "3Yg1LhoOqP1F",
    "outputId": "9dd09fac-c3fb-4235-e304-7eeafde38d25"
   },
   "outputs": [
    {
     "data": {
      "text/plain": [
       "tensor([  0,   1,   2,   3,   4,   5,   6,   7,   8,   9,  10,  11,  12,  13,\n",
       "         14,  15,  16,  17,  18,  19,  20,  21,  22,  23,  24,  25,  26,  27,\n",
       "         28,  29,  30,  31,  32,  33,  34,  35,  36,  37,  38,  39,  40,  41,\n",
       "         42,  43,  44,  45,  46,  47,  48,  49,  50,  51,  52,  53,  54,  55,\n",
       "         56,  57,  58,  59,  60,  61,  62,  63,  64,  65,  66,  67,  68,  69,\n",
       "         70,  71,  72,  73,  74,  75,  76,  77,  78,  79,  80,  81,  82,  83,\n",
       "         84,  85,  86,  87,  88,  89,  90,  91,  92,  93,  94,  95,  96,  97,\n",
       "         98,  99, 100, 101, 102, 103, 104, 105, 106, 107, 108, 109, 110, 111,\n",
       "        112, 113, 114, 115, 116, 117, 118, 119, 120, 121, 122, 123, 124, 125,\n",
       "        126, 127, 128, 129, 130, 131, 132, 133, 134, 135, 136, 137, 138, 139,\n",
       "        140, 141, 142, 143, 144, 145, 146, 147, 148, 149, 150, 151, 152, 153,\n",
       "        154, 155, 156, 157, 158, 159, 160, 161, 162, 163, 164, 165, 166, 167,\n",
       "        168, 169, 170, 171, 172, 173, 174, 175, 176, 177, 178, 179, 180, 181,\n",
       "        182, 183, 184, 185, 186, 187, 188, 189, 190, 191, 192, 193, 194, 195,\n",
       "        196, 197, 198, 199, 200, 201, 202, 203, 204, 205, 206, 207, 208, 209,\n",
       "        210, 211, 212, 213, 214, 215, 216, 217, 218, 219, 220, 221, 222, 223,\n",
       "        224, 225, 226, 227, 228, 229, 230, 231, 232, 233, 234, 235, 236, 237,\n",
       "        238, 239, 240, 241, 242, 243, 244, 245, 246, 247, 248, 249, 250, 251,\n",
       "        252, 253, 254, 255,   0,   1,   2,   3,   4,   5,   6,   7,   8,   9,\n",
       "         10,  11,  12,  13,  14,  15,  16,  17,  18,  19,  20,  21,  22,  23,\n",
       "         24,  25,  26,  27,  28,  29,  30,  31,  32,  33,  34,  35,  36,  37,\n",
       "         38,  39,  40,  41,  42,  43,  44,  45,  46,  47,  48,  49,  50,  51,\n",
       "         52,  53,  54,  55,  56,  57,  58,  59,  60,  61,  62,  63,  64,  65,\n",
       "         66,  67,  68,  69,  70,  71,  72,  73,  74,  75,  76,  77,  78,  79,\n",
       "         80,  81,  82,  83,  84,  85,  86,  87,  88,  89,  90,  91,  92,  93,\n",
       "         94,  95,  96,  97,  98,  99, 100, 101, 102, 103, 104, 105, 106, 107,\n",
       "        108, 109, 110, 111, 112, 113, 114, 115, 116, 117, 118, 119, 120, 121,\n",
       "        122, 123, 124, 125, 126, 127, 128, 129, 130, 131, 132, 133, 134, 135,\n",
       "        136, 137, 138, 139, 140, 141, 142, 143, 144, 145, 146, 147, 148, 149,\n",
       "        150, 151, 152, 153, 154, 155, 156, 157, 158, 159, 160, 161, 162, 163,\n",
       "        164, 165, 166, 167, 168, 169, 170, 171, 172, 173, 174, 175, 176, 177,\n",
       "        178, 179, 180, 181, 182, 183, 184, 185, 186, 187, 188, 189, 190, 191,\n",
       "        192, 193, 194, 195, 196, 197, 198, 199, 200, 201, 202, 203, 204, 205,\n",
       "        206, 207, 208, 209, 210, 211, 212, 213, 214, 215, 216, 217, 218, 219,\n",
       "        220, 221, 222, 223, 224, 225, 226, 227, 228, 229, 230, 231, 232, 233,\n",
       "        234, 235, 236, 237, 238, 239, 240, 241, 242, 243, 244, 245, 246, 247,\n",
       "        248, 249, 250, 251, 252, 253, 254, 255])"
      ]
     },
     "execution_count": 14,
     "metadata": {},
     "output_type": "execute_result"
    }
   ],
   "source": [
    "LABELS = torch.cat([torch.arange(BATCH_SIZE) for i in range(2)], dim=0)\n",
    "LABELS"
   ]
  },
  {
   "cell_type": "code",
   "execution_count": 15,
   "metadata": {
    "id": "jUjLXHzuqP1G",
    "outputId": "d760bb7f-029d-4f7c-e68b-52abe44f27d1"
   },
   "outputs": [
    {
     "data": {
      "text/plain": [
       "tensor([[1., 0., 0.,  ..., 0., 0., 0.],\n",
       "        [0., 1., 0.,  ..., 0., 0., 0.],\n",
       "        [0., 0., 1.,  ..., 0., 0., 0.],\n",
       "        ...,\n",
       "        [0., 0., 0.,  ..., 1., 0., 0.],\n",
       "        [0., 0., 0.,  ..., 0., 1., 0.],\n",
       "        [0., 0., 0.,  ..., 0., 0., 1.]])"
      ]
     },
     "execution_count": 15,
     "metadata": {},
     "output_type": "execute_result"
    }
   ],
   "source": [
    "LABELS = (LABELS.unsqueeze(0) == LABELS.unsqueeze(1)).float() # Creates a one-hot with broadcasting\n",
    "LABELS"
   ]
  },
  {
   "cell_type": "markdown",
   "metadata": {
    "id": "1au7lAXKqP1G"
   },
   "source": [
    "### LARS class implementation"
   ]
  },
  {
   "cell_type": "code",
   "execution_count": 16,
   "metadata": {
    "id": "wmYBCZDOqP1H"
   },
   "outputs": [],
   "source": [
    "import torch\n",
    "from torch import nn\n",
    "from torch.optim.optimizer import Optimizer, required\n",
    "class LARS(Optimizer): \n",
    "\n",
    "    def __init__(\n",
    "        self,\n",
    "        params,\n",
    "        lr=required,\n",
    "        momentum: float = 0,\n",
    "        dampening: float = 0,\n",
    "        weight_decay: float = 0,\n",
    "        nesterov: bool = False,\n",
    "        trust_coefficient: float = 0.001,\n",
    "        eps: float = 1e-8,\n",
    "    ):\n",
    "        if lr is not required and lr < 0.0:\n",
    "            raise ValueError(f\"Invalid learning rate: {lr}\")\n",
    "        if momentum < 0.0:\n",
    "            raise ValueError(f\"Invalid momentum value: {momentum}\")\n",
    "        if weight_decay < 0.0:\n",
    "            raise ValueError(f\"Invalid weight_decay value: {weight_decay}\")\n",
    "\n",
    "        defaults = dict(lr=lr, momentum=momentum, dampening=dampening, weight_decay=weight_decay, nesterov=nesterov)\n",
    "        if nesterov and (momentum <= 0 or dampening != 0):\n",
    "            raise ValueError(\"Nesterov momentum requires a momentum and zero dampening\")\n",
    "\n",
    "        self.eps = eps\n",
    "        self.trust_coefficient = trust_coefficient\n",
    "\n",
    "        super().__init__(params, defaults)\n",
    "\n",
    "    def __setstate__(self, state):\n",
    "        super().__setstate__(state)\n",
    "\n",
    "        for group in self.param_groups:\n",
    "            group.setdefault(\"nesterov\", False)\n",
    "\n",
    "    @torch.no_grad()\n",
    "    def step(self, closure=None):\n",
    "        \"\"\"Performs a single optimization step.\n",
    "\n",
    "        Args:\n",
    "            closure (callable, optional): A closure that reevaluates the model\n",
    "                and returns the loss.\n",
    "        \"\"\"\n",
    "        loss = None\n",
    "        if closure is not None:\n",
    "            with torch.enable_grad():\n",
    "                loss = closure()\n",
    "\n",
    "        # exclude scaling for params with 0 weight decay\n",
    "        for group in self.param_groups:\n",
    "            weight_decay = group[\"weight_decay\"]\n",
    "            momentum = group[\"momentum\"]\n",
    "            dampening = group[\"dampening\"]\n",
    "            nesterov = group[\"nesterov\"]\n",
    "\n",
    "            for p in group[\"params\"]:\n",
    "                if p.grad is None:\n",
    "                    continue\n",
    "\n",
    "                d_p = p.grad\n",
    "                p_norm = torch.norm(p.data)\n",
    "                g_norm = torch.norm(p.grad.data)\n",
    "\n",
    "                # lars scaling + weight decay part\n",
    "                if weight_decay != 0:\n",
    "                    if p_norm != 0 and g_norm != 0:\n",
    "                        lars_lr = p_norm / (g_norm + p_norm * weight_decay + self.eps)\n",
    "                        lars_lr *= self.trust_coefficient\n",
    "\n",
    "                        d_p = d_p.add(p, alpha=weight_decay)\n",
    "                        d_p *= lars_lr\n",
    "\n",
    "                # sgd part\n",
    "                if momentum != 0:\n",
    "                    param_state = self.state[p]\n",
    "                    if \"momentum_buffer\" not in param_state:\n",
    "                        buf = param_state[\"momentum_buffer\"] = torch.clone(d_p).detach()\n",
    "                    else:\n",
    "                        buf = param_state[\"momentum_buffer\"]\n",
    "                        buf.mul_(momentum).add_(d_p, alpha=1 - dampening)\n",
    "                    if nesterov:\n",
    "                        d_p = d_p.add(buf, alpha=momentum)\n",
    "                    else:\n",
    "                        d_p = buf\n",
    "\n",
    "                p.add_(d_p, alpha=-group[\"lr\"])\n",
    "\n",
    "        return loss\n"
   ]
  },
  {
   "cell_type": "code",
   "execution_count": 17,
   "metadata": {
    "id": "p4FRlWFnqP1I"
   },
   "outputs": [],
   "source": [
    "from torch import optim\n",
    "simclr_model = SimCLR().to(DEVICE)       # network model\n",
    "criterion = nn.CrossEntropyLoss().to(DEVICE)        # loss\n",
    "# optimizer = torch.optim.Adam(simclr_model.parameters(), lr=0.79, weight_decay=1e-6)     # optimizer\n",
    "# optimizer = LARS(optim.SGD(clr_model.parameters(), lr=0.59, weight_decay=1e-6))\n",
    "optimizer = torch.optim.SGD(simclr_model.parameters(), lr=0.001/2, momentum=0.9, weight_decay=0.0005, nesterov=True)\n",
    "scheduler = optim.lr_scheduler.CosineAnnealingLR(optimizer, T_max=1000)"
   ]
  },
  {
   "cell_type": "code",
   "execution_count": 20,
   "metadata": {},
   "outputs": [],
   "source": [
    "from tqdm import tqdm\n",
    "\n",
    "EPOCHS = 101\n",
    "checkpoint = 1\n",
    "for epoch in range(EPOCHS):\n",
    "    t0 = time.time()\n",
    "    running_loss = 0.0\n",
    "    for i, views in enumerate(tqdm(train_dl)):\n",
    "        projections = simclr_model([view.to(DEVICE) for view in views])\n",
    "        logits, labels = cont_loss(projections, temp=0.5)\n",
    "        loss = criterion(logits, labels)\n",
    "        optimizer.zero_grad()\n",
    "        loss.backward()\n",
    "        optimizer.step()\n",
    "        running_loss += loss.item()\n",
    "    scheduler.step()\n",
    "        # print statistics\n",
    "    if(epoch % 10 == 0) :                        \n",
    "        print(f'EPOCH: {epoch+1} BATCH: {i+1} LOSS: {(running_loss/100):.4f} ')\n",
    "        \n",
    "        # Checkpoint \n",
    "        torch.save(simclr_model.state_dict(), f'simclr_resnet50_pre_two_stage_{checkpoint}') \n",
    "        checkpoint += 1 \n",
    "    running_loss = 0.0\n",
    "    print(f'Time taken: {((time.time()-t0)/60):.3f} mins')"
   ]
  },
  {
   "cell_type": "markdown",
   "metadata": {
    "id": "lYPmIgTtqP1J"
   },
   "source": [
    "# Downstream Task"
   ]
  },
  {
   "cell_type": "code",
   "execution_count": 21,
   "metadata": {
    "id": "xcPkviN9qP1J"
   },
   "outputs": [],
   "source": [
    "from torchvision.transforms import (\n",
    "    CenterCrop,\n",
    "    Resize\n",
    ")"
   ]
  },
  {
   "cell_type": "code",
   "execution_count": 22,
   "metadata": {
    "id": "ra0AQShkqP1K"
   },
   "outputs": [],
   "source": [
    "# transforms\n",
    "\n",
    "resize = Resize(255)\n",
    "ccrop = CenterCrop(224)\n",
    "ttensor = ToTensor()\n",
    "\n",
    "custom_transform = Compose([\n",
    "    resize,\n",
    "    ccrop,\n",
    "    ttensor,\n",
    "])"
   ]
  },
  {
   "cell_type": "code",
   "execution_count": 23,
   "metadata": {
    "id": "Eac1p1ZTqP1K"
   },
   "outputs": [],
   "source": [
    "# train and valid dataset\n",
    "\n",
    "train2_ds = ImageFolder(\n",
    "    root=\"/home/ccet/SIH/Data/ind-data/UCMerced_LandUse/train/\",\n",
    "    transform=custom_transform\n",
    ")\n",
    "valid2_ds = ImageFolder(\n",
    "    root=\"/home/ccet/SIH/Data/ind-data/UCMerced_LandUse/test/\",\n",
    "    transform=custom_transform\n",
    ")\n",
    "test2_ds = ImageFolder(\n",
    "    root=\"/home/ccet/SIH/Data/ind-data/UCMerced_LandUse/val/\",\n",
    "    transform=custom_transform\n",
    ")\n",
    "\n",
    "nu_classes = 2\n",
    "\n",
    "BATCH_SIZE = 256\n",
    "\n",
    "# train_size = int(0.8 * len(ds))\n",
    "# valid_size = len(ds) - train_size\n",
    "# train_ds, valid_ds = torch.utils.data.random_split(ds, [train_size, valid_size])\n",
    "\n",
    "# print(len(train_ds))\n",
    "# print(len(valid_ds))\n",
    "\n",
    "# Building the data loader\n",
    "train_dl = torch.utils.data.DataLoader(\n",
    "    train2_ds,\n",
    "    batch_size=BATCH_SIZE,\n",
    "    shuffle=True,\n",
    "    num_workers=os.cpu_count(),\n",
    "    drop_last=True,\n",
    "    pin_memory=True,\n",
    ")\n",
    "\n",
    "valid_dl = torch.utils.data.DataLoader(\n",
    "    valid2_ds,\n",
    "    batch_size=BATCH_SIZE,\n",
    "    shuffle=True,\n",
    "    num_workers=os.cpu_count(),\n",
    "    drop_last=True,\n",
    "    pin_memory=True,\n",
    ")\n",
    "test_dl = torch.utils.data.DataLoader(\n",
    "    test2_ds,\n",
    "    batch_size=BATCH_SIZE,\n",
    "    shuffle=True,\n",
    "    num_workers=os.cpu_count(),\n",
    "    drop_last=True,\n",
    "    pin_memory=True,\n",
    ")"
   ]
  },
  {
   "cell_type": "code",
   "execution_count": 24,
   "metadata": {
    "id": "JEfZ-dX-qP1L"
   },
   "outputs": [],
   "source": [
    "class Identity(nn.Module):\n",
    "    def __init__(self):\n",
    "        super(Identity, self).__init__()\n",
    "    def forward(self, x):\n",
    "        return x\n",
    "\n",
    "    \n",
    "# classifier    \n",
    "class LinearEvaluation(nn.Module):\n",
    "    def __init__(self, model, nu_classes):\n",
    "        super().__init__()\n",
    "        simclr = model\n",
    "        simclr.linear_eval = True\n",
    "        simclr.projection = Identity()\n",
    "        self.simclr = simclr\n",
    "        for param in self.simclr.parameters():\n",
    "            param.requires_grad = True\n",
    "        self.linear = nn.Sequential(\n",
    "            nn.Linear(2048, 512),\n",
    "            nn.ReLU(),\n",
    "            nn.Linear(512, nu_classes))\n",
    "    def forward(self, x):\n",
    "        encoding = self.simclr(x)\n",
    "        pred = self.linear(encoding) \n",
    "        return pred"
   ]
  },
  {
   "cell_type": "code",
   "execution_count": 25,
   "metadata": {
    "id": "MV4z2RIiqP1L"
   },
   "outputs": [
    {
     "ename": "FileNotFoundError",
     "evalue": "[Errno 2] No such file or directory: 'simclr_resnet50_pre_two_stage_11'",
     "output_type": "error",
     "traceback": [
      "\u001b[0;31m---------------------------------------------------------------------------\u001b[0m",
      "\u001b[0;31mFileNotFoundError\u001b[0m                         Traceback (most recent call last)",
      "Input \u001b[0;32mIn [25]\u001b[0m, in \u001b[0;36m<cell line: 1>\u001b[0;34m()\u001b[0m\n\u001b[0;32m----> 1\u001b[0m simclr_model\u001b[38;5;241m.\u001b[39mload_state_dict(\u001b[43mtorch\u001b[49m\u001b[38;5;241;43m.\u001b[39;49m\u001b[43mload\u001b[49m\u001b[43m(\u001b[49m\u001b[38;5;124;43m'\u001b[39;49m\u001b[38;5;124;43msimclr_resnet50_pre_two_stage_11\u001b[39;49m\u001b[38;5;124;43m'\u001b[39;49m\u001b[43m)\u001b[49m) \u001b[38;5;66;03m#load_tar\u001b[39;00m\n\u001b[1;32m      2\u001b[0m eval_model \u001b[38;5;241m=\u001b[39m LinearEvaluation(simclr_model, nu_classes)\u001b[38;5;241m.\u001b[39mto(DEVICE)\n\u001b[1;32m      3\u001b[0m criterion \u001b[38;5;241m=\u001b[39m nn\u001b[38;5;241m.\u001b[39mCrossEntropyLoss()\u001b[38;5;241m.\u001b[39mto(DEVICE)\n",
      "File \u001b[0;32m~/anaconda3/lib/python3.8/site-packages/torch/serialization.py:594\u001b[0m, in \u001b[0;36mload\u001b[0;34m(f, map_location, pickle_module, **pickle_load_args)\u001b[0m\n\u001b[1;32m    591\u001b[0m \u001b[38;5;28;01mif\u001b[39;00m \u001b[38;5;124m'\u001b[39m\u001b[38;5;124mencoding\u001b[39m\u001b[38;5;124m'\u001b[39m \u001b[38;5;129;01mnot\u001b[39;00m \u001b[38;5;129;01min\u001b[39;00m pickle_load_args\u001b[38;5;241m.\u001b[39mkeys():\n\u001b[1;32m    592\u001b[0m     pickle_load_args[\u001b[38;5;124m'\u001b[39m\u001b[38;5;124mencoding\u001b[39m\u001b[38;5;124m'\u001b[39m] \u001b[38;5;241m=\u001b[39m \u001b[38;5;124m'\u001b[39m\u001b[38;5;124mutf-8\u001b[39m\u001b[38;5;124m'\u001b[39m\n\u001b[0;32m--> 594\u001b[0m \u001b[38;5;28;01mwith\u001b[39;00m \u001b[43m_open_file_like\u001b[49m\u001b[43m(\u001b[49m\u001b[43mf\u001b[49m\u001b[43m,\u001b[49m\u001b[43m \u001b[49m\u001b[38;5;124;43m'\u001b[39;49m\u001b[38;5;124;43mrb\u001b[39;49m\u001b[38;5;124;43m'\u001b[39;49m\u001b[43m)\u001b[49m \u001b[38;5;28;01mas\u001b[39;00m opened_file:\n\u001b[1;32m    595\u001b[0m     \u001b[38;5;28;01mif\u001b[39;00m _is_zipfile(opened_file):\n\u001b[1;32m    596\u001b[0m         \u001b[38;5;66;03m# The zipfile reader is going to advance the current file position.\u001b[39;00m\n\u001b[1;32m    597\u001b[0m         \u001b[38;5;66;03m# If we want to actually tail call to torch.jit.load, we need to\u001b[39;00m\n\u001b[1;32m    598\u001b[0m         \u001b[38;5;66;03m# reset back to the original position.\u001b[39;00m\n\u001b[1;32m    599\u001b[0m         orig_position \u001b[38;5;241m=\u001b[39m opened_file\u001b[38;5;241m.\u001b[39mtell()\n",
      "File \u001b[0;32m~/anaconda3/lib/python3.8/site-packages/torch/serialization.py:230\u001b[0m, in \u001b[0;36m_open_file_like\u001b[0;34m(name_or_buffer, mode)\u001b[0m\n\u001b[1;32m    228\u001b[0m \u001b[38;5;28;01mdef\u001b[39;00m \u001b[38;5;21m_open_file_like\u001b[39m(name_or_buffer, mode):\n\u001b[1;32m    229\u001b[0m     \u001b[38;5;28;01mif\u001b[39;00m _is_path(name_or_buffer):\n\u001b[0;32m--> 230\u001b[0m         \u001b[38;5;28;01mreturn\u001b[39;00m \u001b[43m_open_file\u001b[49m\u001b[43m(\u001b[49m\u001b[43mname_or_buffer\u001b[49m\u001b[43m,\u001b[49m\u001b[43m \u001b[49m\u001b[43mmode\u001b[49m\u001b[43m)\u001b[49m\n\u001b[1;32m    231\u001b[0m     \u001b[38;5;28;01melse\u001b[39;00m:\n\u001b[1;32m    232\u001b[0m         \u001b[38;5;28;01mif\u001b[39;00m \u001b[38;5;124m'\u001b[39m\u001b[38;5;124mw\u001b[39m\u001b[38;5;124m'\u001b[39m \u001b[38;5;129;01min\u001b[39;00m mode:\n",
      "File \u001b[0;32m~/anaconda3/lib/python3.8/site-packages/torch/serialization.py:211\u001b[0m, in \u001b[0;36m_open_file.__init__\u001b[0;34m(self, name, mode)\u001b[0m\n\u001b[1;32m    210\u001b[0m \u001b[38;5;28;01mdef\u001b[39;00m \u001b[38;5;21m__init__\u001b[39m(\u001b[38;5;28mself\u001b[39m, name, mode):\n\u001b[0;32m--> 211\u001b[0m     \u001b[38;5;28msuper\u001b[39m(_open_file, \u001b[38;5;28mself\u001b[39m)\u001b[38;5;241m.\u001b[39m\u001b[38;5;21m__init__\u001b[39m(\u001b[38;5;28;43mopen\u001b[39;49m\u001b[43m(\u001b[49m\u001b[43mname\u001b[49m\u001b[43m,\u001b[49m\u001b[43m \u001b[49m\u001b[43mmode\u001b[49m\u001b[43m)\u001b[49m)\n",
      "\u001b[0;31mFileNotFoundError\u001b[0m: [Errno 2] No such file or directory: 'simclr_resnet50_pre_two_stage_11'"
     ]
    }
   ],
   "source": [
    "simclr_model.load_state_dict(torch.load('simclr_resnet50_pre_two_stage_11')) #load_tar\n",
    "eval_model = LinearEvaluation(simclr_model, nu_classes).to(DEVICE)\n",
    "criterion = nn.CrossEntropyLoss().to(DEVICE)\n",
    "optimizer = LARS(eval_model.parameters(), lr=0.005, momentum=0.9,  weight_decay=1e-6, nesterov=True)\n",
    "scheduler = optim.lr_scheduler.CosineAnnealingLR(optimizer, T_max=1000)"
   ]
  },
  {
   "cell_type": "code",
   "execution_count": null,
   "metadata": {
    "id": "70QCxsG5qP1L",
    "scrolled": true
   },
   "outputs": [],
   "source": [
    "cntr=0\n",
    "\n",
    "for child in eval_model.children():\n",
    "    cntr+=1\n",
    "    print(child)"
   ]
  },
  {
   "cell_type": "code",
   "execution_count": null,
   "metadata": {
    "id": "gE76FjwCqP1L"
   },
   "outputs": [],
   "source": [
    "eval_model.children()"
   ]
  },
  {
   "cell_type": "code",
   "execution_count": null,
   "metadata": {
    "id": "14WFneFiqP1M"
   },
   "outputs": [],
   "source": [
    "ct = 0\n",
    "for child in eval_model.children():\n",
    "    ct += 1\n",
    "    if ct < 2:\n",
    "        for param in child.parameters():\n",
    "            param.requires_grad = False"
   ]
  },
  {
   "cell_type": "code",
   "execution_count": null,
   "metadata": {
    "id": "CTpNU-0kqP1M"
   },
   "outputs": [],
   "source": [
    "from tqdm import tqdm\n",
    "EPOCHS = 10\n",
    "for epoch in range(EPOCHS):\n",
    "    t0 = time.time()\n",
    "    running_loss = 0.0\n",
    "    for i, element in enumerate(tqdm(train_dl)):\n",
    "        image, label = element\n",
    "        image = image.to(DEVICE)\n",
    "        label = label.to(DEVICE)\n",
    "        pred = eval_model(image)\n",
    "#         print(image.shape)\n",
    "#         print(pred.shape)\n",
    "#         print(label.shape)\n",
    "        loss = criterion(pred, label)\n",
    "        optimizer.zero_grad()\n",
    "        loss.backward()\n",
    "        optimizer.step()\n",
    "        running_loss += loss.item()\n",
    "    scheduler.step()\n",
    "    if(epoch % 10 == 0) :                        \n",
    "        print(f'EPOCH: {epoch+1} BATCH: {i+1} LOSS: {(running_loss/100):.4f} ')\n",
    "    running_loss = 0.0\n",
    "#     print(f'Time taken: {((time.time()-t0)/60):.3f} mins')"
   ]
  },
  {
   "cell_type": "code",
   "execution_count": null,
   "metadata": {
    "id": "Fwm6aX9TqP1M"
   },
   "outputs": [],
   "source": [
    "ct = 0\n",
    "for child in eval_model.children():\n",
    "    ct += 1\n",
    "    if ct <= 2:\n",
    "        for param in child.parameters():\n",
    "            param.requires_grad = True"
   ]
  },
  {
   "cell_type": "code",
   "execution_count": null,
   "metadata": {},
   "outputs": [],
   "source": [
    "train_loss = list()\n",
    "train_acc= list()\n",
    "val_loss= list()\n",
    "val_acc= list()\n",
    "from tqdm import tqdm\n",
    "epochs = 100\n",
    "for epoch in range(epochs):\n",
    "    accuracies = list()\n",
    "    class_losses = list()\n",
    "    eval_model.train()\n",
    "    for class_batch in tqdm(train_dl):\n",
    "        x, y = class_batch\n",
    "        x = x.to(DEVICE)\n",
    "        y = y.to(DEVICE)\n",
    "       \n",
    "        logit = eval_model(x)\n",
    "        classification_loss = criterion(logit, y)\n",
    "        class_losses.append(classification_loss.item())\n",
    "\n",
    "        optimizer.zero_grad()\n",
    "        classification_loss.backward()\n",
    "        optimizer.step()\n",
    "        accuracies.append(y.eq(logit.detach().argmax(dim =1)).float().mean())\n",
    "    scheduler.step()  \n",
    "    if (epoch+1)%5==0:\n",
    "        torch.save(eval_model.state_dict(), f'cl1_simclreval_newdata_{epoch+1}')\n",
    "        print(f\"saved checkpoint for epoch {epoch + 1}\")\n",
    "\n",
    "    train_loss.append(class_losses)\n",
    "    train_acc.append(accuracies)\n",
    "    print(f'Epoch {epoch + 1}')\n",
    "    print(f'classification training loss: {torch.tensor(class_losses).mean():.5f}')\n",
    "    print(f'classification training accuracy: {torch.tensor(accuracies).mean():.5f}', \n",
    "          end ='\\n\\n')\n",
    "    \n",
    "\n",
    "    losses = list()\n",
    "    accuracies = list()\n",
    "    eval_model.eval()\n",
    "    for batch in tqdm(valid_dl):\n",
    "        x, y = batch\n",
    "        x = x.to(DEVICE)\n",
    "        y = y.to(DEVICE)\n",
    "        with torch.no_grad():\n",
    "            logit =eval_model(x)\n",
    "\n",
    "        loss = criterion(logit, y)\n",
    "\n",
    "        losses.append(loss.item())\n",
    "        accuracies.append(y.eq(logit.detach().argmax(dim =1)).float().mean())\n",
    "    \n",
    "    val_loss.append(losses)\n",
    "    val_acc.append(accuracies)\n",
    "    print(f'Epoch {epoch + 1}')\n",
    "    print(f'classification validation loss: {torch.tensor(losses).mean():.5f}')\n",
    "    print(f'classification validation accuracy: {torch.tensor(accuracies).mean():.5f}', \n",
    "          end ='\\n\\n')\n"
   ]
  },
  {
   "cell_type": "code",
   "execution_count": null,
   "metadata": {},
   "outputs": [],
   "source": [
    "eval_model.load_state_dict(torch.load('cl1_simclreval_newdata_30')) #load_tar"
   ]
  },
  {
   "cell_type": "code",
   "execution_count": null,
   "metadata": {
    "id": "i07GlNzRqP1N",
    "outputId": "8ab13e68-0ee6-4a95-da56-056a61ed80da"
   },
   "outputs": [],
   "source": [
    "from tqdm import tqdm\n",
    "correct = 0\n",
    "total = 0\n",
    "preds = []\n",
    "labels = []\n",
    "with torch.no_grad():\n",
    "    for i, element in enumerate(tqdm(test_dl)):\n",
    "        image, label = element\n",
    "        image = image.to(DEVICE)\n",
    "        label = label.to(DEVICE)\n",
    "        outputs = eval_model(image)\n",
    "        _, predicted = torch.max(outputs.data, 1)\n",
    "        preds += predicted.cpu().numpy().tolist()\n",
    "        labels += label.cpu().numpy().tolist()\n",
    "        total += label.size(0)\n",
    "        correct += (predicted == label).sum().item()\n",
    "\n",
    "print(f'Accuracy: {100 * correct / total} %')"
   ]
  },
  {
   "cell_type": "code",
   "execution_count": null,
   "metadata": {
    "id": "G7iWa8KSqP1N"
   },
   "outputs": [],
   "source": [
    "import pandas as pd\n",
    "from sklearn.preprocessing import MinMaxScaler    \n",
    "from sklearn.model_selection import train_test_split\n",
    "from sklearn.metrics import confusion_matrix, classification_report, cohen_kappa_score"
   ]
  },
  {
   "cell_type": "code",
   "execution_count": null,
   "metadata": {
    "id": "ZgFRhShkqP1O"
   },
   "outputs": [],
   "source": [
    "confusion_matrix_df = pd.DataFrame(confusion_matrix(labels, preds))"
   ]
  },
  {
   "cell_type": "code",
   "execution_count": null,
   "metadata": {
    "id": "xTlDE5F7qP1O"
   },
   "outputs": [],
   "source": [
    "target_names = ['res', 'Nonres']"
   ]
  },
  {
   "cell_type": "code",
   "execution_count": null,
   "metadata": {
    "id": "6y3v05tlqP1O",
    "outputId": "5212f998-0ac7-453a-b06d-17f6fc3ebd17"
   },
   "outputs": [],
   "source": [
    "print(classification_report(labels, preds, target_names=target_names))"
   ]
  },
  {
   "cell_type": "code",
   "execution_count": null,
   "metadata": {
    "id": "DekhlzB8qP1O"
   },
   "outputs": [],
   "source": [
    "print(cohen_kappa_score(labels, preds, weights='quadratic'))"
   ]
  },
  {
   "cell_type": "code",
   "execution_count": null,
   "metadata": {
    "id": "NmmnhonrqP1O"
   },
   "outputs": [],
   "source": [
    "print(cohen_kappa_score(labels, preds))"
   ]
  },
  {
   "cell_type": "code",
   "execution_count": null,
   "metadata": {},
   "outputs": [],
   "source": [
    "import seaborn as sn\n",
    "plt.figure(figsize = (4,4),dpi=120)\n",
    "sn.heatmap(confusion_matrix_df, annot=True, cmap=\"Blues_r\")"
   ]
  },
  {
   "cell_type": "code",
   "execution_count": null,
   "metadata": {},
   "outputs": [],
   "source": [
    "import numpy as np\n",
    "from sklearn.metrics import roc_curve, auc\n",
    "# probs from log preds\n",
    "#labels.reshape(-1,1)\n",
    "probs = np.exp(labels[:])\n",
    "# Compute ROC curve\n",
    "fpr, tpr, thresholds = roc_curve(labels, preds)\n",
    "\n",
    "# Compute ROC area\n",
    "roc_auc = auc(fpr, tpr)\n",
    "print('ROC area is {0}'.format(roc_auc))\n",
    "#print(auc(fpr,tpr))"
   ]
  },
  {
   "cell_type": "code",
   "execution_count": null,
   "metadata": {},
   "outputs": [],
   "source": [
    "plt.figure()\n",
    "plt.plot(fpr, tpr, color='darkorange', label='ROC curve (area = %0.8f)' % roc_auc)\n",
    "plt.plot([0, 1], [0, 1], color='navy', linestyle='--')\n",
    "plt.xlim([-0.01, 1.0])\n",
    "plt.ylim([0.0, 1.01])\n",
    "plt.xlabel('False Positive Rate')\n",
    "plt.ylabel('True Positive Rate')\n",
    "plt.title('Receiver operating characteristic')\n",
    "plt.legend(loc=\"lower right\")"
   ]
  },
  {
   "cell_type": "code",
   "execution_count": null,
   "metadata": {},
   "outputs": [],
   "source": []
  }
 ],
 "metadata": {
  "colab": {
   "name": "CL1-SimCLR- two stage-ND.ipynb",
   "provenance": []
  },
  "kernelspec": {
   "display_name": "Python 3 (ipykernel)",
   "language": "python",
   "name": "python3"
  },
  "language_info": {
   "codemirror_mode": {
    "name": "ipython",
    "version": 3
   },
   "file_extension": ".py",
   "mimetype": "text/x-python",
   "name": "python",
   "nbconvert_exporter": "python",
   "pygments_lexer": "ipython3",
   "version": "3.8.12"
  }
 },
 "nbformat": 4,
 "nbformat_minor": 1
}
